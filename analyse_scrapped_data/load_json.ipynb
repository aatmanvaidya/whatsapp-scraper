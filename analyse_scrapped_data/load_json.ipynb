{
 "cells": [
  {
   "cell_type": "code",
   "execution_count": 7,
   "id": "8627523f-a542-4135-95e9-484ec93eb909",
   "metadata": {},
   "outputs": [],
   "source": [
    "import json\n",
    "from datetime import datetime"
   ]
  },
  {
   "cell_type": "code",
   "execution_count": 8,
   "id": "b2009fe8-dcf0-438b-9e27-13d6fdc51c47",
   "metadata": {},
   "outputs": [
    {
     "data": {
      "text/plain": [
       "3"
      ]
     },
     "execution_count": 8,
     "metadata": {},
     "output_type": "execute_result"
    }
   ],
   "source": [
    "with open(r'../output/919824920073_c_us.json', 'r') as f:\n",
    "    data = json.load(f)\n",
    "\n",
    "len(data)"
   ]
  },
  {
   "cell_type": "code",
   "execution_count": 9,
   "id": "d4d44d5c-97ee-48fa-9981-935bc24cba19",
   "metadata": {},
   "outputs": [
    {
     "data": {
      "text/plain": [
       "217"
      ]
     },
     "execution_count": 9,
     "metadata": {},
     "output_type": "execute_result"
    }
   ],
   "source": [
    "messages = data[\"messages\"]\n",
    "len(messages)"
   ]
  },
  {
   "cell_type": "code",
   "execution_count": 14,
   "id": "567eff8c-e0aa-4e5d-a6ce-6976fc381aaa",
   "metadata": {},
   "outputs": [],
   "source": [
    "for msg in messages:\n",
    "    ts = msg.get(\"timestamp\")\n",
    "    if ts:\n",
    "        dt = datetime.fromtimestamp(ts)\n",
    "        readable_time = dt.strftime('%Y-%m-%d %H:%M:%S')\n",
    "        msg['readable_time'] = readable_time\n",
    "        # print(f\"Timestamp: {readable_time} | Message: {msg}\")"
   ]
  },
  {
   "cell_type": "code",
   "execution_count": 15,
   "id": "c7430343-3f67-4906-97ba-fee8df1a9963",
   "metadata": {},
   "outputs": [
    {
     "data": {
      "text/plain": [
       "{'id': 'AA58F5520F8BD3BA7FFB77542FC71C7F',\n",
       " 'timestamp': 1744368635,\n",
       " 'from': '919824920073@c.us',\n",
       " 'body': 'https://www.instagram.com/reel/DIEX6RlPrO3/?igsh=Y3IyMm9zb2luem84',\n",
       " 'type': 'chat',\n",
       " 'hasMedia': False,\n",
       " 'mediaFilename': None,\n",
       " 'readable_time': '2025-04-11 16:20:35'}"
      ]
     },
     "execution_count": 15,
     "metadata": {},
     "output_type": "execute_result"
    }
   ],
   "source": [
    "oldest_message = min(messages, key=lambda x: x[\"timestamp\"])\n",
    "oldest_message"
   ]
  },
  {
   "cell_type": "code",
   "execution_count": null,
   "id": "3f55af9f-901e-4f60-8afa-525383a3d17e",
   "metadata": {},
   "outputs": [],
   "source": []
  }
 ],
 "metadata": {
  "kernelspec": {
   "display_name": "Python 3 (ipykernel)",
   "language": "python",
   "name": "python3"
  },
  "language_info": {
   "codemirror_mode": {
    "name": "ipython",
    "version": 3
   },
   "file_extension": ".py",
   "mimetype": "text/x-python",
   "name": "python",
   "nbconvert_exporter": "python",
   "pygments_lexer": "ipython3",
   "version": "3.10.12"
  }
 },
 "nbformat": 4,
 "nbformat_minor": 5
}
